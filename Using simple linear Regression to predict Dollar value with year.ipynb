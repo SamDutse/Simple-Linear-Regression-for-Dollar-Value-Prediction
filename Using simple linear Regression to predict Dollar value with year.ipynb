{
 "cells": [
  {
   "cell_type": "code",
   "execution_count": 3,
   "id": "cf52d2be",
   "metadata": {},
   "outputs": [],
   "source": [
    "# importing necessary libraries\n",
    "import pandas as pd\n",
    "import numpy as np\n",
    "import seaborn as sns\n",
    "import matplotlib.pyplot as plt\n",
    "%matplotlib inline"
   ]
  },
  {
   "cell_type": "code",
   "execution_count": 4,
   "id": "aa7a9d51",
   "metadata": {},
   "outputs": [],
   "source": [
    "# loading the data\n",
    "inflation_rate = r\"C:\\Users\\SamDutse\\Desktop\\Curent Work\\dollar_inflation.csv\"\n",
    "data = pd.read_csv(inflation_rate)"
   ]
  },
  {
   "cell_type": "code",
   "execution_count": 5,
   "id": "f14220c0",
   "metadata": {},
   "outputs": [
    {
     "data": {
      "text/html": [
       "<div>\n",
       "<style scoped>\n",
       "    .dataframe tbody tr th:only-of-type {\n",
       "        vertical-align: middle;\n",
       "    }\n",
       "\n",
       "    .dataframe tbody tr th {\n",
       "        vertical-align: top;\n",
       "    }\n",
       "\n",
       "    .dataframe thead th {\n",
       "        text-align: right;\n",
       "    }\n",
       "</style>\n",
       "<table border=\"1\" class=\"dataframe\">\n",
       "  <thead>\n",
       "    <tr style=\"text-align: right;\">\n",
       "      <th></th>\n",
       "      <th>Year</th>\n",
       "      <th>Dollar Value</th>\n",
       "      <th>Buying Power</th>\n",
       "      <th>Inflation Rate</th>\n",
       "    </tr>\n",
       "  </thead>\n",
       "  <tbody>\n",
       "    <tr>\n",
       "      <th>0</th>\n",
       "      <td>1800</td>\n",
       "      <td>1.00</td>\n",
       "      <td>1.00</td>\n",
       "      <td>2.44</td>\n",
       "    </tr>\n",
       "    <tr>\n",
       "      <th>1</th>\n",
       "      <td>1801</td>\n",
       "      <td>1.01</td>\n",
       "      <td>0.99</td>\n",
       "      <td>0.79</td>\n",
       "    </tr>\n",
       "    <tr>\n",
       "      <th>2</th>\n",
       "      <td>1802</td>\n",
       "      <td>0.85</td>\n",
       "      <td>1.18</td>\n",
       "      <td>-15.75</td>\n",
       "    </tr>\n",
       "    <tr>\n",
       "      <th>3</th>\n",
       "      <td>1803</td>\n",
       "      <td>0.90</td>\n",
       "      <td>1.11</td>\n",
       "      <td>5.61</td>\n",
       "    </tr>\n",
       "    <tr>\n",
       "      <th>4</th>\n",
       "      <td>1804</td>\n",
       "      <td>0.94</td>\n",
       "      <td>1.06</td>\n",
       "      <td>4.42</td>\n",
       "    </tr>\n",
       "  </tbody>\n",
       "</table>\n",
       "</div>"
      ],
      "text/plain": [
       "   Year  Dollar Value  Buying Power Inflation Rate\n",
       "0  1800          1.00          1.00           2.44\n",
       "1  1801          1.01          0.99           0.79\n",
       "2  1802          0.85          1.18         -15.75\n",
       "3  1803          0.90          1.11           5.61\n",
       "4  1804          0.94          1.06           4.42"
      ]
     },
     "execution_count": 5,
     "metadata": {},
     "output_type": "execute_result"
    }
   ],
   "source": [
    "#viewing the top five rows of the data\n",
    "data.head()"
   ]
  },
  {
   "cell_type": "code",
   "execution_count": 6,
   "id": "cf402363",
   "metadata": {},
   "outputs": [
    {
     "data": {
      "text/html": [
       "<div>\n",
       "<style scoped>\n",
       "    .dataframe tbody tr th:only-of-type {\n",
       "        vertical-align: middle;\n",
       "    }\n",
       "\n",
       "    .dataframe tbody tr th {\n",
       "        vertical-align: top;\n",
       "    }\n",
       "\n",
       "    .dataframe thead th {\n",
       "        text-align: right;\n",
       "    }\n",
       "</style>\n",
       "<table border=\"1\" class=\"dataframe\">\n",
       "  <thead>\n",
       "    <tr style=\"text-align: right;\">\n",
       "      <th></th>\n",
       "      <th>Year</th>\n",
       "      <th>Dollar Value</th>\n",
       "      <th>Buying Power</th>\n",
       "      <th>Inflation Rate</th>\n",
       "    </tr>\n",
       "  </thead>\n",
       "  <tbody>\n",
       "    <tr>\n",
       "      <th>218</th>\n",
       "      <td>2018</td>\n",
       "      <td>19.94</td>\n",
       "      <td>0.05</td>\n",
       "      <td>2.49</td>\n",
       "    </tr>\n",
       "    <tr>\n",
       "      <th>219</th>\n",
       "      <td>2019</td>\n",
       "      <td>20.29</td>\n",
       "      <td>0.05</td>\n",
       "      <td>1.76</td>\n",
       "    </tr>\n",
       "    <tr>\n",
       "      <th>220</th>\n",
       "      <td>2020</td>\n",
       "      <td>20.54</td>\n",
       "      <td>0.05</td>\n",
       "      <td>1.23</td>\n",
       "    </tr>\n",
       "    <tr>\n",
       "      <th>221</th>\n",
       "      <td>2021</td>\n",
       "      <td>21.51</td>\n",
       "      <td>0.05</td>\n",
       "      <td>4.70</td>\n",
       "    </tr>\n",
       "    <tr>\n",
       "      <th>222</th>\n",
       "      <td>2022</td>\n",
       "      <td>23.56</td>\n",
       "      <td>0.04</td>\n",
       "      <td>#VALUE!</td>\n",
       "    </tr>\n",
       "  </tbody>\n",
       "</table>\n",
       "</div>"
      ],
      "text/plain": [
       "     Year  Dollar Value  Buying Power Inflation Rate\n",
       "218  2018         19.94          0.05           2.49\n",
       "219  2019         20.29          0.05           1.76\n",
       "220  2020         20.54          0.05           1.23\n",
       "221  2021         21.51          0.05           4.70\n",
       "222  2022         23.56          0.04        #VALUE!"
      ]
     },
     "execution_count": 6,
     "metadata": {},
     "output_type": "execute_result"
    }
   ],
   "source": [
    "#viewing the last five rows of the data\n",
    "data.tail()"
   ]
  },
  {
   "cell_type": "code",
   "execution_count": 7,
   "id": "eefaf336",
   "metadata": {},
   "outputs": [
    {
     "data": {
      "text/plain": [
       "(223, 4)"
      ]
     },
     "execution_count": 7,
     "metadata": {},
     "output_type": "execute_result"
    }
   ],
   "source": [
    "#viewing the dimension of the data\n",
    "data.shape"
   ]
  },
  {
   "cell_type": "code",
   "execution_count": 8,
   "id": "50f63a5e",
   "metadata": {},
   "outputs": [
    {
     "name": "stdout",
     "output_type": "stream",
     "text": [
      "<class 'pandas.core.frame.DataFrame'>\n",
      "RangeIndex: 223 entries, 0 to 222\n",
      "Data columns (total 4 columns):\n",
      " #   Column          Non-Null Count  Dtype  \n",
      "---  ------          --------------  -----  \n",
      " 0   Year            223 non-null    int64  \n",
      " 1   Dollar Value    223 non-null    float64\n",
      " 2   Buying Power    223 non-null    float64\n",
      " 3   Inflation Rate  223 non-null    object \n",
      "dtypes: float64(2), int64(1), object(1)\n",
      "memory usage: 7.1+ KB\n"
     ]
    }
   ],
   "source": [
    "#getting info on the data columns, Non null value counts and data types\n",
    "data.info()"
   ]
  },
  {
   "cell_type": "code",
   "execution_count": 9,
   "id": "4edb4d6d",
   "metadata": {},
   "outputs": [
    {
     "data": {
      "text/html": [
       "<div>\n",
       "<style scoped>\n",
       "    .dataframe tbody tr th:only-of-type {\n",
       "        vertical-align: middle;\n",
       "    }\n",
       "\n",
       "    .dataframe tbody tr th {\n",
       "        vertical-align: top;\n",
       "    }\n",
       "\n",
       "    .dataframe thead th {\n",
       "        text-align: right;\n",
       "    }\n",
       "</style>\n",
       "<table border=\"1\" class=\"dataframe\">\n",
       "  <thead>\n",
       "    <tr style=\"text-align: right;\">\n",
       "      <th></th>\n",
       "      <th>Year</th>\n",
       "      <th>Dollar Value</th>\n",
       "      <th>Buying Power</th>\n",
       "      <th>Inflation Rate</th>\n",
       "    </tr>\n",
       "  </thead>\n",
       "  <tbody>\n",
       "    <tr>\n",
       "      <th>0</th>\n",
       "      <td>1800</td>\n",
       "      <td>1.00</td>\n",
       "      <td>1.00</td>\n",
       "      <td>2.44</td>\n",
       "    </tr>\n",
       "    <tr>\n",
       "      <th>1</th>\n",
       "      <td>1801</td>\n",
       "      <td>1.01</td>\n",
       "      <td>0.99</td>\n",
       "      <td>0.79</td>\n",
       "    </tr>\n",
       "    <tr>\n",
       "      <th>2</th>\n",
       "      <td>1802</td>\n",
       "      <td>0.85</td>\n",
       "      <td>1.18</td>\n",
       "      <td>-15.75</td>\n",
       "    </tr>\n",
       "    <tr>\n",
       "      <th>3</th>\n",
       "      <td>1803</td>\n",
       "      <td>0.90</td>\n",
       "      <td>1.11</td>\n",
       "      <td>5.61</td>\n",
       "    </tr>\n",
       "    <tr>\n",
       "      <th>4</th>\n",
       "      <td>1804</td>\n",
       "      <td>0.94</td>\n",
       "      <td>1.06</td>\n",
       "      <td>4.42</td>\n",
       "    </tr>\n",
       "    <tr>\n",
       "      <th>...</th>\n",
       "      <td>...</td>\n",
       "      <td>...</td>\n",
       "      <td>...</td>\n",
       "      <td>...</td>\n",
       "    </tr>\n",
       "    <tr>\n",
       "      <th>217</th>\n",
       "      <td>2017</td>\n",
       "      <td>19.45</td>\n",
       "      <td>0.05</td>\n",
       "      <td>2.13</td>\n",
       "    </tr>\n",
       "    <tr>\n",
       "      <th>218</th>\n",
       "      <td>2018</td>\n",
       "      <td>19.94</td>\n",
       "      <td>0.05</td>\n",
       "      <td>2.49</td>\n",
       "    </tr>\n",
       "    <tr>\n",
       "      <th>219</th>\n",
       "      <td>2019</td>\n",
       "      <td>20.29</td>\n",
       "      <td>0.05</td>\n",
       "      <td>1.76</td>\n",
       "    </tr>\n",
       "    <tr>\n",
       "      <th>220</th>\n",
       "      <td>2020</td>\n",
       "      <td>20.54</td>\n",
       "      <td>0.05</td>\n",
       "      <td>1.23</td>\n",
       "    </tr>\n",
       "    <tr>\n",
       "      <th>221</th>\n",
       "      <td>2021</td>\n",
       "      <td>21.51</td>\n",
       "      <td>0.05</td>\n",
       "      <td>4.70</td>\n",
       "    </tr>\n",
       "  </tbody>\n",
       "</table>\n",
       "<p>222 rows × 4 columns</p>\n",
       "</div>"
      ],
      "text/plain": [
       "     Year  Dollar Value  Buying Power Inflation Rate\n",
       "0    1800          1.00          1.00           2.44\n",
       "1    1801          1.01          0.99           0.79\n",
       "2    1802          0.85          1.18         -15.75\n",
       "3    1803          0.90          1.11           5.61\n",
       "4    1804          0.94          1.06           4.42\n",
       "..    ...           ...           ...            ...\n",
       "217  2017         19.45          0.05           2.13\n",
       "218  2018         19.94          0.05           2.49\n",
       "219  2019         20.29          0.05           1.76\n",
       "220  2020         20.54          0.05           1.23\n",
       "221  2021         21.51          0.05           4.70\n",
       "\n",
       "[222 rows x 4 columns]"
      ]
     },
     "execution_count": 9,
     "metadata": {},
     "output_type": "execute_result"
    }
   ],
   "source": [
    "#data cleaning\n",
    "#removing the year 2022 due to the #VALUE\n",
    "data = data[data[\"Year\"] != 2022]\n",
    "data"
   ]
  },
  {
   "cell_type": "code",
   "execution_count": 10,
   "id": "ef8515de",
   "metadata": {},
   "outputs": [
    {
     "data": {
      "text/plain": [
       "<matplotlib.collections.PathCollection at 0x16d40cc4760>"
      ]
     },
     "execution_count": 10,
     "metadata": {},
     "output_type": "execute_result"
    },
    {
     "data": {
      "image/png": "[encoded data removed]",
      "text/plain": [
       "<Figure size 640x480 with 1 Axes>"
      ]
     },
     "metadata": {},
     "output_type": "display_data"
    }
   ],
   "source": [
    "#data visualization\n",
    "plt.scatter(x = data[\"Year\"], y = data[\"Dollar Value\"])"
   ]
  },
  {
   "cell_type": "code",
   "execution_count": 11,
   "id": "b19c0832",
   "metadata": {},
   "outputs": [
    {
     "data": {
      "text/plain": [
       "<AxesSubplot:>"
      ]
     },
     "execution_count": 11,
     "metadata": {},
     "output_type": "execute_result"
    },
    {
     "data": {
      "image/png": "[encoded data removed]",
      "text/plain": [
       "<Figure size 640x480 with 2 Axes>"
      ]
     },
     "metadata": {},
     "output_type": "display_data"
    }
   ],
   "source": [
    "#Building the correlation matrix\n",
    "sns.heatmap(data.corr())"
   ]
  },
  {
   "cell_type": "code",
   "execution_count": 12,
   "id": "a8b0a51d",
   "metadata": {},
   "outputs": [],
   "source": [
    "# data splicing into independent and dependent variables\n",
    "X = data.iloc[:, 0].values.reshape(-1, 1)\n",
    "y = data.iloc[:, 1].values"
   ]
  },
  {
   "cell_type": "code",
   "execution_count": 13,
   "id": "bcc166ac",
   "metadata": {},
   "outputs": [],
   "source": [
    "#importing model and model selection\n",
    "from sklearn.linear_model import LinearRegression\n",
    "from sklearn.model_selection import train_test_split"
   ]
  },
  {
   "cell_type": "code",
   "execution_count": 14,
   "id": "bad2d02d",
   "metadata": {},
   "outputs": [],
   "source": [
    "#splitting the data into training and testing data\n",
    "X_train, X_test, y_train, y_test = train_test_split( X, y, test_size = 0.3, random_state = 0)"
   ]
  },
  {
   "cell_type": "code",
   "execution_count": 15,
   "id": "3a57d9b3",
   "metadata": {},
   "outputs": [
    {
     "data": {
      "text/plain": [
       "LinearRegression()"
      ]
     },
     "execution_count": 15,
     "metadata": {},
     "output_type": "execute_result"
    }
   ],
   "source": [
    "#fitting multiple linear regression model to training set\n",
    "Regressor = LinearRegression()\n",
    "Regressor.fit(X_train, y_train)"
   ]
  },
  {
   "cell_type": "code",
   "execution_count": 17,
   "id": "71302cd1",
   "metadata": {},
   "outputs": [
    {
     "data": {
      "text/plain": [
       "array([ 4.93193616,  9.5339957 ,  7.45361262,  0.89725384,  8.14707364,\n",
       "        5.62539719, -0.48966821,  1.21246339,  0.77117001, -2.75917702,\n",
       "        1.96896633, -0.93096159, -2.94830276,  9.28182805,  0.7081281 ,\n",
       "        7.20144497,  3.41893029,  9.59703761,  9.47095378,  2.3472178 ,\n",
       "        3.60805603,  8.77749276,  4.5536847 ,  1.40158913,  1.52767295,\n",
       "       -2.50700938,  6.63406777,  6.76015159,  4.49064278,  5.81452292,\n",
       "        0.20379281,  4.42760087,  2.85155309,  3.29284647, -2.12875791,\n",
       "       -2.31788364,  8.58836702, -2.82221894,  1.46463104,  6.88623542,\n",
       "        2.78851118,  6.12973248,  2.41025971,  7.83186409,  5.75148101,\n",
       "       -1.18312924,  6.50798395,  8.39924129,  9.21878614,  4.17543323,\n",
       "        9.66007952,  8.52532511,  9.09270232, -2.25484173,  2.53634353,\n",
       "        3.54501411,  5.49931337, -1.87659026,  9.40791187, -0.4266263 ,\n",
       "        9.91224716, -3.01134467,  3.10372073,  4.04934941,  0.58204428,\n",
       "        0.01466708, -1.62442262])"
      ]
     },
     "execution_count": 17,
     "metadata": {},
     "output_type": "execute_result"
    }
   ],
   "source": [
    "#predicting the test set result\n",
    "Prediction = Regressor.predict(X_test)\n",
    "Prediction"
   ]
  },
  {
   "cell_type": "code",
   "execution_count": 23,
   "id": "38c92e8b",
   "metadata": {},
   "outputs": [
    {
     "data": {
      "image/png": "[encoded data removed]",
      "text/plain": [
       "<Figure size 640x480 with 1 Axes>"
      ]
     },
     "metadata": {},
     "output_type": "display_data"
    }
   ],
   "source": [
    "plt.scatter(X_test, y_test)\n",
    "plt.plot(X_test, Prediction)\n",
    "plt.xlabel(\"Year\")\n",
    "plt.ylabel(\"Dollar Value\")\n",
    "\n",
    "plt.title(\"Graph of Dollar Value Vs Year\")\n",
    "plt.show()"
   ]
  },
  {
   "cell_type": "code",
   "execution_count": 19,
   "id": "88786f82",
   "metadata": {},
   "outputs": [
    {
     "data": {
      "text/plain": [
       "array([0.06304191])"
      ]
     },
     "execution_count": 19,
     "metadata": {},
     "output_type": "execute_result"
    }
   ],
   "source": [
    "#calculating the coefficient and intercept\n",
    "m = Regressor.coef_\n",
    "m"
   ]
  },
  {
   "cell_type": "code",
   "execution_count": 20,
   "id": "86c9bfe0",
   "metadata": {},
   "outputs": [
    {
     "data": {
      "text/plain": [
       "-116.73895280375025"
      ]
     },
     "execution_count": 20,
     "metadata": {},
     "output_type": "execute_result"
    }
   ],
   "source": [
    "c = Regressor.intercept_\n",
    "c"
   ]
  },
  {
   "cell_type": "code",
   "execution_count": 21,
   "id": "343e43c3",
   "metadata": {},
   "outputs": [
    {
     "data": {
      "text/plain": [
       "54.34015098914631"
      ]
     },
     "execution_count": 21,
     "metadata": {},
     "output_type": "execute_result"
    }
   ],
   "source": [
    "#evaluating the model\n",
    "from sklearn.metrics import r2_score\n",
    "r2_score(y_test, Prediction) * 100"
   ]
  },
  {
   "cell_type": "code",
   "execution_count": 22,
   "id": "49e79981",
   "metadata": {},
   "outputs": [
    {
     "name": "stdout",
     "output_type": "stream",
     "text": [
      "[10.73179201]\n",
      "[11.2361273]\n"
     ]
    }
   ],
   "source": [
    "#building a predictor function\n",
    "def Predictor(year):\n",
    "    return m*year + c\n",
    "print(Predictor(2022))\n",
    "print(Predictor(2030))"
   ]
  }
 ],
 "metadata": {
  "kernelspec": {
   "display_name": "Python 3 (ipykernel)",
   "language": "python",
   "name": "python3"
  },
  "language_info": {
   "codemirror_mode": {
    "name": "ipython",
    "version": 3
   },
   "file_extension": ".py",
   "mimetype": "text/x-python",
   "name": "python",
   "nbconvert_exporter": "python",
   "pygments_lexer": "ipython3",
   "version": "3.9.13"
  }
 },
 "nbformat": 4,
 "nbformat_minor": 5
}
